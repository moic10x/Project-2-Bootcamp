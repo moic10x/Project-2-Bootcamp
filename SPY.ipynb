{
 "cells": [
  {
   "cell_type": "code",
   "execution_count": 79,
   "id": "029a76e7",
   "metadata": {},
   "outputs": [],
   "source": [
    "import pandas as pd\n",
    "from pathlib import Path\n",
    "import numpy as np"
   ]
  },
  {
   "cell_type": "code",
   "execution_count": 10,
   "id": "f71f785c",
   "metadata": {},
   "outputs": [],
   "source": [
    "spy_df = pd.read_csv(Path('Resources_Will/HistoricalPrices.csv'), index_col='Date', parse_dates=True, infer_datetime_format=True)"
   ]
  },
  {
   "cell_type": "code",
   "execution_count": 11,
   "id": "ca75754b",
   "metadata": {},
   "outputs": [
    {
     "data": {
      "text/plain": [
       "Index([' Open', ' High', ' Low', ' Close', ' Volume'], dtype='object')"
      ]
     },
     "execution_count": 11,
     "metadata": {},
     "output_type": "execute_result"
    }
   ],
   "source": [
    "spy_df.columns"
   ]
  },
  {
   "cell_type": "code",
   "execution_count": 12,
   "id": "673c8a57",
   "metadata": {},
   "outputs": [],
   "source": [
    "spy_df = spy_df.drop(columns=[' Open',' High',' Low',' Volume'])\n",
    "spy_df = spy_df.rename(columns = {' Close':'Close'})"
   ]
  },
  {
   "cell_type": "code",
   "execution_count": 13,
   "id": "13aa66b2",
   "metadata": {},
   "outputs": [
    {
     "data": {
      "text/plain": [
       "DatetimeIndex(['2023-06-28', '2023-06-27', '2023-06-26', '2023-06-23',\n",
       "               '2023-06-22', '2023-06-21', '2023-06-20', '2023-06-16',\n",
       "               '2023-06-15', '2023-06-14',\n",
       "               ...\n",
       "               '2000-04-13', '2000-04-12', '2000-04-11', '2000-04-10',\n",
       "               '2000-04-07', '2000-04-06', '2000-04-05', '2000-04-04',\n",
       "               '2000-04-03', '2000-03-31'],\n",
       "              dtype='datetime64[ns]', name='Date', length=5847, freq=None)"
      ]
     },
     "execution_count": 13,
     "metadata": {},
     "output_type": "execute_result"
    }
   ],
   "source": [
    "spy_df.index"
   ]
  },
  {
   "cell_type": "code",
   "execution_count": 14,
   "id": "491533d9",
   "metadata": {},
   "outputs": [],
   "source": [
    "spy_df = spy_df.groupby(by=[spy_df.index.year, spy_df.index.month]).mean('Close')"
   ]
  },
  {
   "cell_type": "code",
   "execution_count": 15,
   "id": "bf134354",
   "metadata": {},
   "outputs": [
    {
     "data": {
      "text/html": [
       "<div>\n",
       "<style scoped>\n",
       "    .dataframe tbody tr th:only-of-type {\n",
       "        vertical-align: middle;\n",
       "    }\n",
       "\n",
       "    .dataframe tbody tr th {\n",
       "        vertical-align: top;\n",
       "    }\n",
       "\n",
       "    .dataframe thead th {\n",
       "        text-align: right;\n",
       "    }\n",
       "</style>\n",
       "<table border=\"1\" class=\"dataframe\">\n",
       "  <thead>\n",
       "    <tr style=\"text-align: right;\">\n",
       "      <th></th>\n",
       "      <th>Close</th>\n",
       "    </tr>\n",
       "    <tr>\n",
       "      <th>index</th>\n",
       "      <th></th>\n",
       "    </tr>\n",
       "  </thead>\n",
       "  <tbody>\n",
       "    <tr>\n",
       "      <th>2000-03</th>\n",
       "      <td>150.375000</td>\n",
       "    </tr>\n",
       "    <tr>\n",
       "      <th>2000-04</th>\n",
       "      <td>146.231911</td>\n",
       "    </tr>\n",
       "    <tr>\n",
       "      <th>2000-05</th>\n",
       "      <td>142.080250</td>\n",
       "    </tr>\n",
       "    <tr>\n",
       "      <th>2000-06</th>\n",
       "      <td>146.521318</td>\n",
       "    </tr>\n",
       "    <tr>\n",
       "      <th>2000-07</th>\n",
       "      <td>147.503905</td>\n",
       "    </tr>\n",
       "    <tr>\n",
       "      <th>...</th>\n",
       "      <td>...</td>\n",
       "    </tr>\n",
       "    <tr>\n",
       "      <th>2023-02</th>\n",
       "      <td>407.072632</td>\n",
       "    </tr>\n",
       "    <tr>\n",
       "      <th>2023-03</th>\n",
       "      <td>396.023913</td>\n",
       "    </tr>\n",
       "    <tr>\n",
       "      <th>2023-04</th>\n",
       "      <td>410.921053</td>\n",
       "    </tr>\n",
       "    <tr>\n",
       "      <th>2023-05</th>\n",
       "      <td>413.880909</td>\n",
       "    </tr>\n",
       "    <tr>\n",
       "      <th>2023-06</th>\n",
       "      <td>432.946842</td>\n",
       "    </tr>\n",
       "  </tbody>\n",
       "</table>\n",
       "<p>280 rows × 1 columns</p>\n",
       "</div>"
      ],
      "text/plain": [
       "              Close\n",
       "index              \n",
       "2000-03  150.375000\n",
       "2000-04  146.231911\n",
       "2000-05  142.080250\n",
       "2000-06  146.521318\n",
       "2000-07  147.503905\n",
       "...             ...\n",
       "2023-02  407.072632\n",
       "2023-03  396.023913\n",
       "2023-04  410.921053\n",
       "2023-05  413.880909\n",
       "2023-06  432.946842\n",
       "\n",
       "[280 rows x 1 columns]"
      ]
     },
     "execution_count": 15,
     "metadata": {},
     "output_type": "execute_result"
    }
   ],
   "source": [
    "#list comprehension to reformat multi-index \n",
    "lst_spy = [(f'{k}/{j}') for j,k in spy_df.index ]\n",
    "spy_df.index = lst_spy\n",
    "\n",
    "spy_df.index = pd.to_datetime(spy_df.index)\n",
    "spy_df = spy_df.reset_index()\n",
    "spy_df['index'] = spy_df['index'].apply(lambda x: x.strftime('%Y-%m'))\n",
    "spy_df.set_index('index', inplace=True)\n",
    "spy_df\n"
   ]
  },
  {
   "cell_type": "markdown",
   "id": "a8429cbd",
   "metadata": {},
   "source": [
    "https://www.macrotrends.net/2637/lumber-prices-historical-chart-data"
   ]
  },
  {
   "cell_type": "code",
   "execution_count": 16,
   "id": "e9e3b627",
   "metadata": {},
   "outputs": [],
   "source": [
    "lumber_df = pd.read_csv(Path('Resources_Will/lumber-prices-historical-chart-data.csv'), index_col='date', parse_dates=True, infer_datetime_format=True)"
   ]
  },
  {
   "cell_type": "code",
   "execution_count": 17,
   "id": "3dee16ff",
   "metadata": {},
   "outputs": [],
   "source": [
    "#calculate mean value for each month\n",
    "lumber_df = lumber_df.groupby(by=[lumber_df.index.year, lumber_df.index.month]).mean()"
   ]
  },
  {
   "cell_type": "code",
   "execution_count": 18,
   "id": "d9ce846e",
   "metadata": {},
   "outputs": [],
   "source": [
    "#list comprehension to reformat multi-index \n",
    "lumber_lst = [(f'{k}/{j}') for j,k in lumber_df.index ]\n",
    "lumber_df.index = lumber_lst\n",
    "\n",
    "#make index datetime, reset the index so I can remove days, and put back into index\n",
    "lumber_df.index = pd.to_datetime(lumber_df.index) \n",
    "lumber_df = lumber_df.reset_index()\n",
    "lumber_df['index'] = lumber_df['index'].apply(lambda x: x.strftime('%Y-%m'))\n",
    "lumber_df.set_index('index', inplace=True)\n",
    "lumber_df.dropna(inplace=True)"
   ]
  },
  {
   "cell_type": "code",
   "execution_count": 20,
   "id": "c509d7a7",
   "metadata": {},
   "outputs": [],
   "source": [
    "lumber_df = lumber_df.rename(columns={'value':'lumber'})"
   ]
  },
  {
   "cell_type": "code",
   "execution_count": 145,
   "id": "cfe9611b",
   "metadata": {},
   "outputs": [
    {
     "data": {
      "text/html": [
       "<div>\n",
       "<style scoped>\n",
       "    .dataframe tbody tr th:only-of-type {\n",
       "        vertical-align: middle;\n",
       "    }\n",
       "\n",
       "    .dataframe tbody tr th {\n",
       "        vertical-align: top;\n",
       "    }\n",
       "\n",
       "    .dataframe thead th {\n",
       "        text-align: right;\n",
       "    }\n",
       "</style>\n",
       "<table border=\"1\" class=\"dataframe\">\n",
       "  <thead>\n",
       "    <tr style=\"text-align: right;\">\n",
       "      <th></th>\n",
       "      <th>value</th>\n",
       "    </tr>\n",
       "    <tr>\n",
       "      <th>index</th>\n",
       "      <th></th>\n",
       "    </tr>\n",
       "  </thead>\n",
       "  <tbody>\n",
       "    <tr>\n",
       "      <th>1996-01</th>\n",
       "      <td>290.540909</td>\n",
       "    </tr>\n",
       "    <tr>\n",
       "      <th>1996-02</th>\n",
       "      <td>301.022000</td>\n",
       "    </tr>\n",
       "    <tr>\n",
       "      <th>1996-03</th>\n",
       "      <td>302.995238</td>\n",
       "    </tr>\n",
       "    <tr>\n",
       "      <th>1996-04</th>\n",
       "      <td>317.145714</td>\n",
       "    </tr>\n",
       "    <tr>\n",
       "      <th>1996-05</th>\n",
       "      <td>357.909091</td>\n",
       "    </tr>\n",
       "    <tr>\n",
       "      <th>...</th>\n",
       "      <td>...</td>\n",
       "    </tr>\n",
       "    <tr>\n",
       "      <th>2023-02</th>\n",
       "      <td>422.865000</td>\n",
       "    </tr>\n",
       "    <tr>\n",
       "      <th>2023-03</th>\n",
       "      <td>387.356522</td>\n",
       "    </tr>\n",
       "    <tr>\n",
       "      <th>2023-04</th>\n",
       "      <td>384.540000</td>\n",
       "    </tr>\n",
       "    <tr>\n",
       "      <th>2023-05</th>\n",
       "      <td>345.117391</td>\n",
       "    </tr>\n",
       "    <tr>\n",
       "      <th>2023-06</th>\n",
       "      <td>421.380952</td>\n",
       "    </tr>\n",
       "  </tbody>\n",
       "</table>\n",
       "<p>330 rows × 1 columns</p>\n",
       "</div>"
      ],
      "text/plain": [
       "              value\n",
       "index              \n",
       "1996-01  290.540909\n",
       "1996-02  301.022000\n",
       "1996-03  302.995238\n",
       "1996-04  317.145714\n",
       "1996-05  357.909091\n",
       "...             ...\n",
       "2023-02  422.865000\n",
       "2023-03  387.356522\n",
       "2023-04  384.540000\n",
       "2023-05  345.117391\n",
       "2023-06  421.380952\n",
       "\n",
       "[330 rows x 1 columns]"
      ]
     },
     "execution_count": 145,
     "metadata": {},
     "output_type": "execute_result"
    }
   ],
   "source": [
    "lumber_df"
   ]
  },
  {
   "cell_type": "code",
   "execution_count": 141,
   "id": "d7a93619",
   "metadata": {},
   "outputs": [],
   "source": [
    "vix_df = pd.read_csv(Path('Resources_Will/VIXCLS.csv'), index_col='DATE', parse_dates=True, infer_datetime_format=True, na_values='.')\n",
    "vix_df = vix_df.ffill()"
   ]
  },
  {
   "cell_type": "code",
   "execution_count": 142,
   "id": "8cc6c488",
   "metadata": {},
   "outputs": [],
   "source": [
    "vix_df = vix_df.groupby(by=[vix_df.index.year, vix_df.index.month])['VIXCLS'].mean()"
   ]
  },
  {
   "cell_type": "code",
   "execution_count": 144,
   "id": "80329feb",
   "metadata": {},
   "outputs": [
    {
     "data": {
      "text/html": [
       "<div>\n",
       "<style scoped>\n",
       "    .dataframe tbody tr th:only-of-type {\n",
       "        vertical-align: middle;\n",
       "    }\n",
       "\n",
       "    .dataframe tbody tr th {\n",
       "        vertical-align: top;\n",
       "    }\n",
       "\n",
       "    .dataframe thead th {\n",
       "        text-align: right;\n",
       "    }\n",
       "</style>\n",
       "<table border=\"1\" class=\"dataframe\">\n",
       "  <thead>\n",
       "    <tr style=\"text-align: right;\">\n",
       "      <th></th>\n",
       "      <th>VIXCLS</th>\n",
       "    </tr>\n",
       "    <tr>\n",
       "      <th>index</th>\n",
       "      <th></th>\n",
       "    </tr>\n",
       "  </thead>\n",
       "  <tbody>\n",
       "    <tr>\n",
       "      <th>2000-01</th>\n",
       "      <td>23.033333</td>\n",
       "    </tr>\n",
       "    <tr>\n",
       "      <th>2000-02</th>\n",
       "      <td>23.710000</td>\n",
       "    </tr>\n",
       "    <tr>\n",
       "      <th>2000-03</th>\n",
       "      <td>22.718261</td>\n",
       "    </tr>\n",
       "    <tr>\n",
       "      <th>2000-04</th>\n",
       "      <td>27.098500</td>\n",
       "    </tr>\n",
       "    <tr>\n",
       "      <th>2000-05</th>\n",
       "      <td>26.290435</td>\n",
       "    </tr>\n",
       "    <tr>\n",
       "      <th>...</th>\n",
       "      <td>...</td>\n",
       "    </tr>\n",
       "    <tr>\n",
       "      <th>2023-02</th>\n",
       "      <td>20.120500</td>\n",
       "    </tr>\n",
       "    <tr>\n",
       "      <th>2023-03</th>\n",
       "      <td>21.644348</td>\n",
       "    </tr>\n",
       "    <tr>\n",
       "      <th>2023-04</th>\n",
       "      <td>17.847000</td>\n",
       "    </tr>\n",
       "    <tr>\n",
       "      <th>2023-05</th>\n",
       "      <td>17.636087</td>\n",
       "    </tr>\n",
       "    <tr>\n",
       "      <th>2023-06</th>\n",
       "      <td>14.003182</td>\n",
       "    </tr>\n",
       "  </tbody>\n",
       "</table>\n",
       "<p>282 rows × 1 columns</p>\n",
       "</div>"
      ],
      "text/plain": [
       "            VIXCLS\n",
       "index             \n",
       "2000-01  23.033333\n",
       "2000-02  23.710000\n",
       "2000-03  22.718261\n",
       "2000-04  27.098500\n",
       "2000-05  26.290435\n",
       "...            ...\n",
       "2023-02  20.120500\n",
       "2023-03  21.644348\n",
       "2023-04  17.847000\n",
       "2023-05  17.636087\n",
       "2023-06  14.003182\n",
       "\n",
       "[282 rows x 1 columns]"
      ]
     },
     "execution_count": 144,
     "metadata": {},
     "output_type": "execute_result"
    }
   ],
   "source": [
    "lst_vix = [(f'{k}/{j}') for j,k in vix_df.index ]\n",
    "vix_df.index = lst_vix\n",
    "\n",
    "vix_df.index = pd.to_datetime(vix_df.index)\n",
    "vix_df = vix_df.reset_index()\n",
    "vix_df['index'] = vix_df['index'].apply(lambda x: x.strftime('%Y-%m'))\n",
    "vix_df.set_index('index', inplace=True)\n",
    "vix_df"
   ]
  },
  {
   "cell_type": "code",
   "execution_count": 146,
   "id": "5b181b69",
   "metadata": {},
   "outputs": [],
   "source": [
    "master = pd.concat([vix_df, lumber_df, spy_df], axis=1)"
   ]
  },
  {
   "cell_type": "code",
   "execution_count": 149,
   "id": "0d94cff6",
   "metadata": {},
   "outputs": [],
   "source": [
    "master = master.dropna()"
   ]
  },
  {
   "cell_type": "code",
   "execution_count": 163,
   "id": "08acae8e",
   "metadata": {},
   "outputs": [],
   "source": [
    "master = master.rename(columns={'VIXCLS':'VIX',' value':'Lumber','Close':'SPY'})"
   ]
  },
  {
   "cell_type": "code",
   "execution_count": 166,
   "id": "135acce1",
   "metadata": {},
   "outputs": [],
   "source": [
    "master = master.reset_index()"
   ]
  },
  {
   "cell_type": "code",
   "execution_count": 170,
   "id": "c010e325",
   "metadata": {},
   "outputs": [],
   "source": [
    "master['index'] = pd.to_datetime(master['index'])"
   ]
  },
  {
   "cell_type": "code",
   "execution_count": 171,
   "id": "e5a0a9ed",
   "metadata": {},
   "outputs": [
    {
     "data": {
      "text/html": [
       "<div>\n",
       "<style scoped>\n",
       "    .dataframe tbody tr th:only-of-type {\n",
       "        vertical-align: middle;\n",
       "    }\n",
       "\n",
       "    .dataframe tbody tr th {\n",
       "        vertical-align: top;\n",
       "    }\n",
       "\n",
       "    .dataframe thead th {\n",
       "        text-align: right;\n",
       "    }\n",
       "</style>\n",
       "<table border=\"1\" class=\"dataframe\">\n",
       "  <thead>\n",
       "    <tr style=\"text-align: right;\">\n",
       "      <th></th>\n",
       "      <th>index</th>\n",
       "      <th>VIX</th>\n",
       "      <th>Lumber</th>\n",
       "      <th>SPY</th>\n",
       "    </tr>\n",
       "  </thead>\n",
       "  <tbody>\n",
       "    <tr>\n",
       "      <th>0</th>\n",
       "      <td>2000-03-01</td>\n",
       "      <td>22.718261</td>\n",
       "      <td>333.900000</td>\n",
       "      <td>150.375000</td>\n",
       "    </tr>\n",
       "    <tr>\n",
       "      <th>1</th>\n",
       "      <td>2000-04-01</td>\n",
       "      <td>27.098500</td>\n",
       "      <td>311.249474</td>\n",
       "      <td>146.231911</td>\n",
       "    </tr>\n",
       "    <tr>\n",
       "      <th>2</th>\n",
       "      <td>2000-05-01</td>\n",
       "      <td>26.290435</td>\n",
       "      <td>291.777273</td>\n",
       "      <td>142.080250</td>\n",
       "    </tr>\n",
       "    <tr>\n",
       "      <th>3</th>\n",
       "      <td>2000-06-01</td>\n",
       "      <td>21.540000</td>\n",
       "      <td>288.352727</td>\n",
       "      <td>146.521318</td>\n",
       "    </tr>\n",
       "    <tr>\n",
       "      <th>4</th>\n",
       "      <td>2000-07-01</td>\n",
       "      <td>19.890000</td>\n",
       "      <td>258.655000</td>\n",
       "      <td>147.503905</td>\n",
       "    </tr>\n",
       "    <tr>\n",
       "      <th>...</th>\n",
       "      <td>...</td>\n",
       "      <td>...</td>\n",
       "      <td>...</td>\n",
       "      <td>...</td>\n",
       "    </tr>\n",
       "    <tr>\n",
       "      <th>275</th>\n",
       "      <td>2023-02-01</td>\n",
       "      <td>20.120500</td>\n",
       "      <td>422.865000</td>\n",
       "      <td>407.072632</td>\n",
       "    </tr>\n",
       "    <tr>\n",
       "      <th>276</th>\n",
       "      <td>2023-03-01</td>\n",
       "      <td>21.644348</td>\n",
       "      <td>387.356522</td>\n",
       "      <td>396.023913</td>\n",
       "    </tr>\n",
       "    <tr>\n",
       "      <th>277</th>\n",
       "      <td>2023-04-01</td>\n",
       "      <td>17.847000</td>\n",
       "      <td>384.540000</td>\n",
       "      <td>410.921053</td>\n",
       "    </tr>\n",
       "    <tr>\n",
       "      <th>278</th>\n",
       "      <td>2023-05-01</td>\n",
       "      <td>17.636087</td>\n",
       "      <td>345.117391</td>\n",
       "      <td>413.880909</td>\n",
       "    </tr>\n",
       "    <tr>\n",
       "      <th>279</th>\n",
       "      <td>2023-06-01</td>\n",
       "      <td>14.003182</td>\n",
       "      <td>421.380952</td>\n",
       "      <td>432.946842</td>\n",
       "    </tr>\n",
       "  </tbody>\n",
       "</table>\n",
       "<p>280 rows × 4 columns</p>\n",
       "</div>"
      ],
      "text/plain": [
       "         index        VIX      Lumber         SPY\n",
       "0   2000-03-01  22.718261  333.900000  150.375000\n",
       "1   2000-04-01  27.098500  311.249474  146.231911\n",
       "2   2000-05-01  26.290435  291.777273  142.080250\n",
       "3   2000-06-01  21.540000  288.352727  146.521318\n",
       "4   2000-07-01  19.890000  258.655000  147.503905\n",
       "..         ...        ...         ...         ...\n",
       "275 2023-02-01  20.120500  422.865000  407.072632\n",
       "276 2023-03-01  21.644348  387.356522  396.023913\n",
       "277 2023-04-01  17.847000  384.540000  410.921053\n",
       "278 2023-05-01  17.636087  345.117391  413.880909\n",
       "279 2023-06-01  14.003182  421.380952  432.946842\n",
       "\n",
       "[280 rows x 4 columns]"
      ]
     },
     "execution_count": 171,
     "metadata": {},
     "output_type": "execute_result"
    }
   ],
   "source": [
    "master"
   ]
  },
  {
   "cell_type": "code",
   "execution_count": null,
   "id": "fbfa361d",
   "metadata": {},
   "outputs": [],
   "source": []
  }
 ],
 "metadata": {
  "kernelspec": {
   "display_name": "Python 3 (ipykernel)",
   "language": "python",
   "name": "python3"
  },
  "language_info": {
   "codemirror_mode": {
    "name": "ipython",
    "version": 3
   },
   "file_extension": ".py",
   "mimetype": "text/x-python",
   "name": "python",
   "nbconvert_exporter": "python",
   "pygments_lexer": "ipython3",
   "version": "3.9.16"
  }
 },
 "nbformat": 4,
 "nbformat_minor": 5
}
