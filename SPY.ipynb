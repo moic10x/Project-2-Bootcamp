{
 "cells": [
  {
   "cell_type": "code",
   "execution_count": 145,
   "id": "029a76e7",
   "metadata": {},
   "outputs": [],
   "source": [
    "import pandas as pd\n",
    "from pathlib import Path"
   ]
  },
  {
   "cell_type": "code",
   "execution_count": 146,
   "id": "f71f785c",
   "metadata": {},
   "outputs": [],
   "source": [
    "spy_df = pd.read_csv(Path('HistoricalPrices.csv'), index_col='Date', parse_dates=True, infer_datetime_format=True)"
   ]
  },
  {
   "cell_type": "code",
   "execution_count": 147,
   "id": "ca75754b",
   "metadata": {},
   "outputs": [
    {
     "data": {
      "text/plain": [
       "Index([' Open', ' High', ' Low', ' Close', ' Volume'], dtype='object')"
      ]
     },
     "execution_count": 147,
     "metadata": {},
     "output_type": "execute_result"
    }
   ],
   "source": [
    "spy_df.columns"
   ]
  },
  {
   "cell_type": "code",
   "execution_count": 148,
   "id": "673c8a57",
   "metadata": {},
   "outputs": [],
   "source": [
    "spy_df = spy_df.drop(columns=[' Open',' High',' Low',' Volume'])\n",
    "spy_df = spy_df.rename(columns = {' Close':'Close'})"
   ]
  },
  {
   "cell_type": "code",
   "execution_count": 149,
   "id": "13aa66b2",
   "metadata": {},
   "outputs": [
    {
     "data": {
      "text/plain": [
       "DatetimeIndex(['2023-06-28', '2023-06-27', '2023-06-26', '2023-06-23',\n",
       "               '2023-06-22', '2023-06-21', '2023-06-20', '2023-06-16',\n",
       "               '2023-06-15', '2023-06-14',\n",
       "               ...\n",
       "               '2000-04-13', '2000-04-12', '2000-04-11', '2000-04-10',\n",
       "               '2000-04-07', '2000-04-06', '2000-04-05', '2000-04-04',\n",
       "               '2000-04-03', '2000-03-31'],\n",
       "              dtype='datetime64[ns]', name='Date', length=5847, freq=None)"
      ]
     },
     "execution_count": 149,
     "metadata": {},
     "output_type": "execute_result"
    }
   ],
   "source": [
    "spy_df.index"
   ]
  },
  {
   "cell_type": "code",
   "execution_count": 150,
   "id": "491533d9",
   "metadata": {},
   "outputs": [],
   "source": [
    "spy_df = spy_df.groupby(by=[spy_df.index.year, spy_df.index.month]).mean('Close')"
   ]
  },
  {
   "cell_type": "code",
   "execution_count": 151,
   "id": "bf134354",
   "metadata": {},
   "outputs": [
    {
     "data": {
      "text/html": [
       "<div>\n",
       "<style scoped>\n",
       "    .dataframe tbody tr th:only-of-type {\n",
       "        vertical-align: middle;\n",
       "    }\n",
       "\n",
       "    .dataframe tbody tr th {\n",
       "        vertical-align: top;\n",
       "    }\n",
       "\n",
       "    .dataframe thead th {\n",
       "        text-align: right;\n",
       "    }\n",
       "</style>\n",
       "<table border=\"1\" class=\"dataframe\">\n",
       "  <thead>\n",
       "    <tr style=\"text-align: right;\">\n",
       "      <th></th>\n",
       "      <th>Close</th>\n",
       "    </tr>\n",
       "    <tr>\n",
       "      <th>index</th>\n",
       "      <th></th>\n",
       "    </tr>\n",
       "  </thead>\n",
       "  <tbody>\n",
       "    <tr>\n",
       "      <th>2000-03</th>\n",
       "      <td>150.375000</td>\n",
       "    </tr>\n",
       "    <tr>\n",
       "      <th>2000-04</th>\n",
       "      <td>146.231911</td>\n",
       "    </tr>\n",
       "    <tr>\n",
       "      <th>2000-05</th>\n",
       "      <td>142.080250</td>\n",
       "    </tr>\n",
       "    <tr>\n",
       "      <th>2000-06</th>\n",
       "      <td>146.521318</td>\n",
       "    </tr>\n",
       "    <tr>\n",
       "      <th>2000-07</th>\n",
       "      <td>147.503905</td>\n",
       "    </tr>\n",
       "    <tr>\n",
       "      <th>...</th>\n",
       "      <td>...</td>\n",
       "    </tr>\n",
       "    <tr>\n",
       "      <th>2023-02</th>\n",
       "      <td>407.072632</td>\n",
       "    </tr>\n",
       "    <tr>\n",
       "      <th>2023-03</th>\n",
       "      <td>396.023913</td>\n",
       "    </tr>\n",
       "    <tr>\n",
       "      <th>2023-04</th>\n",
       "      <td>410.921053</td>\n",
       "    </tr>\n",
       "    <tr>\n",
       "      <th>2023-05</th>\n",
       "      <td>413.880909</td>\n",
       "    </tr>\n",
       "    <tr>\n",
       "      <th>2023-06</th>\n",
       "      <td>432.946842</td>\n",
       "    </tr>\n",
       "  </tbody>\n",
       "</table>\n",
       "<p>280 rows × 1 columns</p>\n",
       "</div>"
      ],
      "text/plain": [
       "              Close\n",
       "index              \n",
       "2000-03  150.375000\n",
       "2000-04  146.231911\n",
       "2000-05  142.080250\n",
       "2000-06  146.521318\n",
       "2000-07  147.503905\n",
       "...             ...\n",
       "2023-02  407.072632\n",
       "2023-03  396.023913\n",
       "2023-04  410.921053\n",
       "2023-05  413.880909\n",
       "2023-06  432.946842\n",
       "\n",
       "[280 rows x 1 columns]"
      ]
     },
     "execution_count": 151,
     "metadata": {},
     "output_type": "execute_result"
    }
   ],
   "source": [
    "#list comprehension to reformat multi-index \n",
    "lst_spy = [(f'{k}/{j}') for j,k in spy_df.index ]\n",
    "spy_df.index = lst_spy\n",
    "\n",
    "spy_df.index = pd.to_datetime(spy_df.index)\n",
    "spy_df = spy_df.reset_index()\n",
    "spy_df['index'] = spy_df['index'].apply(lambda x: x.strftime('%Y-%m'))\n",
    "spy_df.set_index('index', inplace=True)\n",
    "spy_df\n"
   ]
  },
  {
   "cell_type": "markdown",
   "id": "a8429cbd",
   "metadata": {},
   "source": [
    "https://www.macrotrends.net/2637/lumber-prices-historical-chart-data"
   ]
  },
  {
   "cell_type": "code",
   "execution_count": 152,
   "id": "e9e3b627",
   "metadata": {},
   "outputs": [],
   "source": [
    "lumber_df = pd.read_csv(Path('lumber-prices-historical-chart-data.csv'), index_col='date', parse_dates=True, infer_datetime_format=True)"
   ]
  },
  {
   "cell_type": "code",
   "execution_count": 153,
   "id": "3dee16ff",
   "metadata": {},
   "outputs": [],
   "source": [
    "#calculate mean value for each month\n",
    "lumber_df = lumber_df.groupby(by=[lumber_df.index.year, lumber_df.index.month]).mean()"
   ]
  },
  {
   "cell_type": "code",
   "execution_count": 154,
   "id": "d9ce846e",
   "metadata": {},
   "outputs": [],
   "source": [
    "#list comprehension to reformat multi-index \n",
    "lumber_lst = [(f'{k}/{j}') for j,k in lumber_df.index ]\n",
    "lumber_df.index = lumber_lst\n",
    "\n",
    "#make index datetime, reset the index so I can remove days, and put back into index\n",
    "lumber_df.index = pd.to_datetime(lumber_df.index) \n",
    "lumber_df = lumber_df.reset_index()\n",
    "lumber_df['index'] = lumber_df['index'].apply(lambda x: x.strftime('%Y-%m'))\n",
    "lumber_df.set_index('index', inplace=True)\n",
    "lumber_df.dropna(inplace=True)"
   ]
  },
  {
   "cell_type": "code",
   "execution_count": 155,
   "id": "c509d7a7",
   "metadata": {},
   "outputs": [
    {
     "data": {
      "text/html": [
       "<div>\n",
       "<style scoped>\n",
       "    .dataframe tbody tr th:only-of-type {\n",
       "        vertical-align: middle;\n",
       "    }\n",
       "\n",
       "    .dataframe tbody tr th {\n",
       "        vertical-align: top;\n",
       "    }\n",
       "\n",
       "    .dataframe thead th {\n",
       "        text-align: right;\n",
       "    }\n",
       "</style>\n",
       "<table border=\"1\" class=\"dataframe\">\n",
       "  <thead>\n",
       "    <tr style=\"text-align: right;\">\n",
       "      <th></th>\n",
       "      <th>value</th>\n",
       "    </tr>\n",
       "    <tr>\n",
       "      <th>index</th>\n",
       "      <th></th>\n",
       "    </tr>\n",
       "  </thead>\n",
       "  <tbody>\n",
       "    <tr>\n",
       "      <th>1996-01</th>\n",
       "      <td>290.540909</td>\n",
       "    </tr>\n",
       "    <tr>\n",
       "      <th>1996-02</th>\n",
       "      <td>301.022000</td>\n",
       "    </tr>\n",
       "    <tr>\n",
       "      <th>1996-03</th>\n",
       "      <td>302.995238</td>\n",
       "    </tr>\n",
       "    <tr>\n",
       "      <th>1996-04</th>\n",
       "      <td>317.145714</td>\n",
       "    </tr>\n",
       "    <tr>\n",
       "      <th>1996-05</th>\n",
       "      <td>357.909091</td>\n",
       "    </tr>\n",
       "    <tr>\n",
       "      <th>...</th>\n",
       "      <td>...</td>\n",
       "    </tr>\n",
       "    <tr>\n",
       "      <th>2023-02</th>\n",
       "      <td>422.865000</td>\n",
       "    </tr>\n",
       "    <tr>\n",
       "      <th>2023-03</th>\n",
       "      <td>387.356522</td>\n",
       "    </tr>\n",
       "    <tr>\n",
       "      <th>2023-04</th>\n",
       "      <td>384.540000</td>\n",
       "    </tr>\n",
       "    <tr>\n",
       "      <th>2023-05</th>\n",
       "      <td>345.117391</td>\n",
       "    </tr>\n",
       "    <tr>\n",
       "      <th>2023-06</th>\n",
       "      <td>421.380952</td>\n",
       "    </tr>\n",
       "  </tbody>\n",
       "</table>\n",
       "<p>330 rows × 1 columns</p>\n",
       "</div>"
      ],
      "text/plain": [
       "              value\n",
       "index              \n",
       "1996-01  290.540909\n",
       "1996-02  301.022000\n",
       "1996-03  302.995238\n",
       "1996-04  317.145714\n",
       "1996-05  357.909091\n",
       "...             ...\n",
       "2023-02  422.865000\n",
       "2023-03  387.356522\n",
       "2023-04  384.540000\n",
       "2023-05  345.117391\n",
       "2023-06  421.380952\n",
       "\n",
       "[330 rows x 1 columns]"
      ]
     },
     "execution_count": 155,
     "metadata": {},
     "output_type": "execute_result"
    }
   ],
   "source": [
    "lumber_df"
   ]
  },
  {
   "cell_type": "code",
   "execution_count": null,
   "id": "f51b6408",
   "metadata": {},
   "outputs": [],
   "source": []
  }
 ],
 "metadata": {
  "kernelspec": {
   "display_name": "Python 3 (ipykernel)",
   "language": "python",
   "name": "python3"
  },
  "language_info": {
   "codemirror_mode": {
    "name": "ipython",
    "version": 3
   },
   "file_extension": ".py",
   "mimetype": "text/x-python",
   "name": "python",
   "nbconvert_exporter": "python",
   "pygments_lexer": "ipython3",
   "version": "3.9.16"
  }
 },
 "nbformat": 4,
 "nbformat_minor": 5
}
